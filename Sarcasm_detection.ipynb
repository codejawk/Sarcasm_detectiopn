{
  "nbformat": 4,
  "nbformat_minor": 0,
  "metadata": {
    "colab": {
      "name": "Sarcasm_detection.ipynb",
      "provenance": [],
      "collapsed_sections": [],
      "authorship_tag": "ABX9TyOp+p9wWzYzlIWn+A57CcSh",
      "include_colab_link": true
    },
    "kernelspec": {
      "name": "python3",
      "display_name": "Python 3"
    }
  },
  "cells": [
    {
      "cell_type": "markdown",
      "metadata": {
        "id": "view-in-github",
        "colab_type": "text"
      },
      "source": [
        "<a href=\"https://colab.research.google.com/github/codejawk/Sarcasm_detectiopn/blob/master/Sarcasm_detection.ipynb\" target=\"_parent\"><img src=\"https://colab.research.google.com/assets/colab-badge.svg\" alt=\"Open In Colab\"/></a>"
      ]
    },
    {
      "cell_type": "code",
      "metadata": {
        "id": "ZVl039Z3b4qR",
        "colab_type": "code",
        "colab": {}
      },
      "source": [
        "from tensorflow.keras.preprocessing.text import Tokenizer\n",
        "from tensorflow.keras.preprocessing.sequence import pad_sequences\n",
        "import tensorflow as tf\n",
        "import numpy as np"
      ],
      "execution_count": 36,
      "outputs": []
    },
    {
      "cell_type": "code",
      "metadata": {
        "id": "2H9sS3q0iiGO",
        "colab_type": "code",
        "colab": {}
      },
      "source": [
        "sents=['My name is Jansheir',\n",
        "       'I love my dog',\n",
        "       'my dog loves me.',\n",
        "       'wow! what a wonderful dog.']\n",
        "\n",
        "token=Tokenizer(num_words=5,oov_token='UNK')\n",
        "token.fit_on_texts(sents)\n",
        "\n",
        "sequences=token.texts_to_sequences(sents)\n",
        "pad_seq=pad_sequences(sequences,maxlen=5,padding='post')"
      ],
      "execution_count": 2,
      "outputs": []
    },
    {
      "cell_type": "code",
      "metadata": {
        "id": "kpKrTv1Rjehz",
        "colab_type": "code",
        "colab": {}
      },
      "source": [
        "WORD_INDEX=token.word_index\n",
        "\n"
      ],
      "execution_count": 3,
      "outputs": []
    },
    {
      "cell_type": "code",
      "metadata": {
        "id": "npyqCQfUji6b",
        "colab_type": "code",
        "colab": {
          "base_uri": "https://localhost:8080/",
          "height": 255
        },
        "outputId": "da61483c-aa72-4fa4-d523-27df1ebad0dc"
      },
      "source": [
        "WORD_INDEX"
      ],
      "execution_count": 4,
      "outputs": [
        {
          "output_type": "execute_result",
          "data": {
            "text/plain": [
              "{'UNK': 1,\n",
              " 'a': 13,\n",
              " 'dog': 3,\n",
              " 'i': 7,\n",
              " 'is': 5,\n",
              " 'jansheir': 6,\n",
              " 'love': 8,\n",
              " 'loves': 9,\n",
              " 'me': 10,\n",
              " 'my': 2,\n",
              " 'name': 4,\n",
              " 'what': 12,\n",
              " 'wonderful': 14,\n",
              " 'wow': 11}"
            ]
          },
          "metadata": {
            "tags": []
          },
          "execution_count": 4
        }
      ]
    },
    {
      "cell_type": "code",
      "metadata": {
        "id": "Mo4NcfJLjkmu",
        "colab_type": "code",
        "colab": {}
      },
      "source": [
        "import json\n",
        "file_name=\"/content/Sarcasm_Headlines_Dataset.json\"\n",
        "data=[]\n",
        "with open(file_name) as f:\n",
        "  for line in f:\n",
        "    data.append(json.loads(line))\n",
        "        "
      ],
      "execution_count": 5,
      "outputs": []
    },
    {
      "cell_type": "code",
      "metadata": {
        "id": "ClW8_lzStoSx",
        "colab_type": "code",
        "colab": {
          "base_uri": "https://localhost:8080/",
          "height": 68
        },
        "outputId": "e67b66b2-c14f-48d4-c7aa-8aba9bddf7dc"
      },
      "source": [
        "data[2]"
      ],
      "execution_count": 6,
      "outputs": [
        {
          "output_type": "execute_result",
          "data": {
            "text/plain": [
              "{'article_link': 'https://local.theonion.com/mom-starting-to-fear-son-s-web-series-closest-thing-she-1819576697',\n",
              " 'headline': \"mom starting to fear son's web series closest thing she will have to grandchild\",\n",
              " 'is_sarcastic': 1}"
            ]
          },
          "metadata": {
            "tags": []
          },
          "execution_count": 6
        }
      ]
    },
    {
      "cell_type": "code",
      "metadata": {
        "id": "1-EO7lvOqAEh",
        "colab_type": "code",
        "colab": {}
      },
      "source": [
        "sentences = [] \n",
        "labels = []\n",
        "urls = []\n",
        "for item in data:\n",
        "    sentences.append(item['headline'])\n",
        "    labels.append(item['is_sarcastic'])\n",
        "    urls.append(item['article_link'])\n",
        "\n"
      ],
      "execution_count": 7,
      "outputs": []
    },
    {
      "cell_type": "code",
      "metadata": {
        "id": "8RJeG7uwrVeV",
        "colab_type": "code",
        "colab": {
          "base_uri": "https://localhost:8080/",
          "height": 34
        },
        "outputId": "d67ffc16-3945-4a8a-825c-2361959f0c93"
      },
      "source": [
        "print(len(sentences),len(labels),len(urls))"
      ],
      "execution_count": 8,
      "outputs": [
        {
          "output_type": "stream",
          "text": [
            "26709 26709 26709\n"
          ],
          "name": "stdout"
        }
      ]
    },
    {
      "cell_type": "code",
      "metadata": {
        "id": "d-_NzgU9A79n",
        "colab_type": "code",
        "colab": {}
      },
      "source": [
        "#splitting the data\n",
        "train_sent=sentences[0:20000]\n",
        "train_labels=labels[0:20000]\n",
        "test_sent=sentences[20001:]\n",
        "test_labels=labels[20001:]\n",
        "\n",
        "\n",
        "### converting train labels to nparray for special purpose\n",
        "train_labels=np.array(train_labels)\n",
        "\n",
        "test_labels=np.array(test_labels)"
      ],
      "execution_count": 38,
      "outputs": []
    },
    {
      "cell_type": "code",
      "metadata": {
        "id": "WEamj7tdA8Oq",
        "colab_type": "code",
        "colab": {}
      },
      "source": [
        ""
      ],
      "execution_count": 9,
      "outputs": []
    },
    {
      "cell_type": "code",
      "metadata": {
        "id": "DilIbuW_rZbf",
        "colab_type": "code",
        "colab": {}
      },
      "source": [
        "token=Tokenizer(num_words=10000,oov_token='UNK')\n",
        "token.fit_on_texts(train_sent)\n",
        "word_index=token.word_index\n",
        "train_seq=token.texts_to_sequences(train_sent)\n",
        "train_pad=pad_sequences(train_seq,padding='post',truncating='post',maxlen=120)\n",
        "\n",
        "\n",
        "test_seq=token.texts_to_sequences(test_sent)\n",
        "test_pad=pad_sequences(test_seq,padding='post',truncating='post',maxlen=120)"
      ],
      "execution_count": 39,
      "outputs": []
    },
    {
      "cell_type": "code",
      "metadata": {
        "id": "rYazY0YFsVcX",
        "colab_type": "code",
        "colab": {
          "base_uri": "https://localhost:8080/",
          "height": 102
        },
        "outputId": "e7ead49c-b6d4-4555-c119-5226d06e3ea0"
      },
      "source": [
        "print(train_sent[1])\n",
        "train_pad[1]"
      ],
      "execution_count": 11,
      "outputs": [
        {
          "output_type": "stream",
          "text": [
            "the 'roseanne' revival catches up to our thorny political mood, for better and worse\n"
          ],
          "name": "stdout"
        },
        {
          "output_type": "execute_result",
          "data": {
            "text/plain": [
              "array([   4, 6840, 3096, 3097,   23,    2,  161,    1,  390, 2842,    6,\n",
              "        251,    9,  889,    0,    0,    0,    0,    0,    0,    0,    0,\n",
              "          0,    0,    0,    0,    0,    0,    0,    0,    0,    0,    0,\n",
              "          0,    0,    0,    0,    0,    0,    0], dtype=int32)"
            ]
          },
          "metadata": {
            "tags": []
          },
          "execution_count": 11
        }
      ]
    },
    {
      "cell_type": "code",
      "metadata": {
        "id": "OEZtxUC2uGOA",
        "colab_type": "code",
        "colab": {
          "base_uri": "https://localhost:8080/",
          "height": 52
        },
        "outputId": "eadaf47b-6b14-44da-f431-8cb824f3c2c8"
      },
      "source": [
        "reverse_word_index = dict([(value, key) for (key, value) in word_index.items()])\n",
        "def decode_index(text):\n",
        "  return ' '.join([reverse_word_index.get(i,'?') for i in text])\n",
        "\n",
        "decode_index(train_pad[1])"
      ],
      "execution_count": 26,
      "outputs": [
        {
          "output_type": "execute_result",
          "data": {
            "application/vnd.google.colaboratory.intrinsic+json": {
              "type": "string"
            },
            "text/plain": [
              "\"the 'roseanne' revival catches up to our UNK political mood for better and worse ? ? ? ? ? ? ? ? ? ? ? ? ? ? ? ? ? ? ? ? ? ? ? ? ? ?\""
            ]
          },
          "metadata": {
            "tags": []
          },
          "execution_count": 26
        }
      ]
    },
    {
      "cell_type": "code",
      "metadata": {
        "id": "jk_vX9eOD4tz",
        "colab_type": "code",
        "colab": {
          "base_uri": "https://localhost:8080/",
          "height": 51
        },
        "outputId": "55e3cc3d-1095-4713-a539-c33dc15fb05c"
      },
      "source": [
        "print(reverse_word_index.get(188,'?'))\n",
        "print(word_index.get('4'))"
      ],
      "execution_count": 25,
      "outputs": [
        {
          "output_type": "stream",
          "text": [
            "4\n",
            "188\n"
          ],
          "name": "stdout"
        }
      ]
    },
    {
      "cell_type": "code",
      "metadata": {
        "id": "zZiw4pgNjBUh",
        "colab_type": "code",
        "colab": {
          "base_uri": "https://localhost:8080/",
          "height": 289
        },
        "outputId": "a0bd7c4f-5c22-41ae-dd49-0b9f5cab6df3"
      },
      "source": [
        "model = tf.keras.Sequential([\n",
        "    tf.keras.layers.Embedding(10000, 16, input_length=120),\n",
        "    tf.keras.layers.Flatten(),\n",
        "    tf.keras.layers.Dense(6, activation='relu'),\n",
        "    tf.keras.layers.Dense(1, activation='sigmoid')\n",
        "])\n",
        "model.compile(loss='binary_crossentropy',optimizer='adam',metrics=['accuracy'])\n",
        "model.summary()\n"
      ],
      "execution_count": 40,
      "outputs": [
        {
          "output_type": "stream",
          "text": [
            "Model: \"sequential_1\"\n",
            "_________________________________________________________________\n",
            "Layer (type)                 Output Shape              Param #   \n",
            "=================================================================\n",
            "embedding_1 (Embedding)      (None, 120, 16)           160000    \n",
            "_________________________________________________________________\n",
            "flatten_1 (Flatten)          (None, 1920)              0         \n",
            "_________________________________________________________________\n",
            "dense_2 (Dense)              (None, 6)                 11526     \n",
            "_________________________________________________________________\n",
            "dense_3 (Dense)              (None, 1)                 7         \n",
            "=================================================================\n",
            "Total params: 171,533\n",
            "Trainable params: 171,533\n",
            "Non-trainable params: 0\n",
            "_________________________________________________________________\n"
          ],
          "name": "stdout"
        }
      ]
    },
    {
      "cell_type": "code",
      "metadata": {
        "id": "o_sgAVm9lx3T",
        "colab_type": "code",
        "colab": {
          "base_uri": "https://localhost:8080/",
          "height": 394
        },
        "outputId": "5ba5d039-5e0a-471b-ffe4-61146af94b76"
      },
      "source": [
        "num_epochs = 10\n",
        "model.fit(train_pad, train_labels, epochs=num_epochs, validation_data=(test_pad, test_labels))"
      ],
      "execution_count": 41,
      "outputs": [
        {
          "output_type": "stream",
          "text": [
            "Epoch 1/10\n",
            "625/625 [==============================] - 3s 5ms/step - loss: 0.6083 - accuracy: 0.6424 - val_loss: 0.4695 - val_accuracy: 0.8268\n",
            "Epoch 2/10\n",
            "625/625 [==============================] - 3s 4ms/step - loss: 0.3834 - accuracy: 0.8793 - val_loss: 0.3919 - val_accuracy: 0.8473\n",
            "Epoch 3/10\n",
            "625/625 [==============================] - 3s 4ms/step - loss: 0.2695 - accuracy: 0.9291 - val_loss: 0.3515 - val_accuracy: 0.8640\n",
            "Epoch 4/10\n",
            "625/625 [==============================] - 3s 5ms/step - loss: 0.1523 - accuracy: 0.9536 - val_loss: 0.3376 - val_accuracy: 0.8630\n",
            "Epoch 5/10\n",
            "625/625 [==============================] - 3s 5ms/step - loss: 0.0973 - accuracy: 0.9718 - val_loss: 0.3730 - val_accuracy: 0.8608\n",
            "Epoch 6/10\n",
            "625/625 [==============================] - 3s 4ms/step - loss: 0.0643 - accuracy: 0.9829 - val_loss: 0.4179 - val_accuracy: 0.8584\n",
            "Epoch 7/10\n",
            "625/625 [==============================] - 3s 4ms/step - loss: 0.0419 - accuracy: 0.9909 - val_loss: 0.4609 - val_accuracy: 0.8579\n",
            "Epoch 8/10\n",
            "625/625 [==============================] - 3s 4ms/step - loss: 0.0273 - accuracy: 0.9945 - val_loss: 0.5294 - val_accuracy: 0.8512\n",
            "Epoch 9/10\n",
            "625/625 [==============================] - 3s 4ms/step - loss: 0.0175 - accuracy: 0.9973 - val_loss: 0.5796 - val_accuracy: 0.8488\n",
            "Epoch 10/10\n",
            "625/625 [==============================] - 3s 4ms/step - loss: 0.0105 - accuracy: 0.9986 - val_loss: 0.6398 - val_accuracy: 0.8472\n"
          ],
          "name": "stdout"
        },
        {
          "output_type": "execute_result",
          "data": {
            "text/plain": [
              "<tensorflow.python.keras.callbacks.History at 0x7fc42b5736d8>"
            ]
          },
          "metadata": {
            "tags": []
          },
          "execution_count": 41
        }
      ]
    },
    {
      "cell_type": "code",
      "metadata": {
        "id": "C895Su7_mU7s",
        "colab_type": "code",
        "colab": {
          "base_uri": "https://localhost:8080/",
          "height": 34
        },
        "outputId": "4932ce8b-3132-4b46-d962-4baf2c2046ad"
      },
      "source": [
        "type(train_pad)"
      ],
      "execution_count": 34,
      "outputs": [
        {
          "output_type": "execute_result",
          "data": {
            "text/plain": [
              "numpy.ndarray"
            ]
          },
          "metadata": {
            "tags": []
          },
          "execution_count": 34
        }
      ]
    },
    {
      "cell_type": "code",
      "metadata": {
        "id": "ljiq631BmIXH",
        "colab_type": "code",
        "colab": {}
      },
      "source": [
        ""
      ],
      "execution_count": null,
      "outputs": []
    }
  ]
}